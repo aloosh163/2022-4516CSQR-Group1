{
 "cells": [
  {
   "cell_type": "code",
   "execution_count": 1,
   "id": "9a4f78d3",
   "metadata": {},
   "outputs": [
    {
     "data": {
      "text/html": [
       "<div>\n",
       "<style scoped>\n",
       "    .dataframe tbody tr th:only-of-type {\n",
       "        vertical-align: middle;\n",
       "    }\n",
       "\n",
       "    .dataframe tbody tr th {\n",
       "        vertical-align: top;\n",
       "    }\n",
       "\n",
       "    .dataframe thead th {\n",
       "        text-align: right;\n",
       "    }\n",
       "</style>\n",
       "<table border=\"1\" class=\"dataframe\">\n",
       "  <thead>\n",
       "    <tr style=\"text-align: right;\">\n",
       "      <th></th>\n",
       "      <th>Incedents</th>\n",
       "      <th>Date</th>\n",
       "      <th>Time</th>\n",
       "      <th>Location</th>\n",
       "      <th>Operator</th>\n",
       "      <th>Flight #</th>\n",
       "      <th>Route</th>\n",
       "      <th>AC Type</th>\n",
       "      <th>Regestration</th>\n",
       "      <th>cn / In</th>\n",
       "      <th>Aboard</th>\n",
       "      <th>Fatalities</th>\n",
       "      <th>Ground</th>\n",
       "      <th>Summry</th>\n",
       "    </tr>\n",
       "  </thead>\n",
       "  <tbody>\n",
       "    <tr>\n",
       "      <th>0</th>\n",
       "      <td>1</td>\n",
       "      <td>17/09/1908</td>\n",
       "      <td>1718</td>\n",
       "      <td>Fort Myer, Virginia</td>\n",
       "      <td>Military - U.S. Army</td>\n",
       "      <td>NaN</td>\n",
       "      <td>Demonstration</td>\n",
       "      <td>Wright Flyer III</td>\n",
       "      <td>NaN</td>\n",
       "      <td>1</td>\n",
       "      <td>2 (passengers:1 crew:1)</td>\n",
       "      <td>1 (passengers:1 crew:0)</td>\n",
       "      <td>0</td>\n",
       "      <td>During a demonstration flight, a U.S. Army fl...</td>\n",
       "    </tr>\n",
       "  </tbody>\n",
       "</table>\n",
       "</div>"
      ],
      "text/plain": [
       "   Incedents        Date  Time               Location                Operator  \\\n",
       "0          1  17/09/1908  1718   Fort Myer, Virginia    Military - U.S. Army    \n",
       "\n",
       "  Flight #            Route             AC Type Regestration cn / In  \\\n",
       "0      NaN   Demonstration    Wright Flyer III           NaN       1   \n",
       "\n",
       "                      Aboard                 Fatalities Ground  \\\n",
       "0   2 (passengers:1 crew:1)    1 (passengers:1 crew:0)       0   \n",
       "\n",
       "                                              Summry  \n",
       "0   During a demonstration flight, a U.S. Army fl...  "
      ]
     },
     "execution_count": 1,
     "metadata": {},
     "output_type": "execute_result"
    }
   ],
   "source": [
    "import pandas as pd                                           #Importing pandas library \n",
    "df1=pd.read_csv('Beginning.csv')                                #df1 is the first dataframe of our Beginning(Start)dataset\n",
    "df2=pd.read_csv('End.csv')                                       #df2 is the second dataframe of our End(Final)dataset\n",
    "df1.head(1)"
   ]
  },
  {
   "cell_type": "code",
   "execution_count": 2,
   "id": "234b59fb",
   "metadata": {},
   "outputs": [
    {
     "data": {
      "text/plain": [
       "Incedents        int64\n",
       "Date            object\n",
       "Time            object\n",
       "Location        object\n",
       "Operator        object\n",
       "Flight #        object\n",
       "Route           object\n",
       "AC Type         object\n",
       "Regestration    object\n",
       "cn / In         object\n",
       "Aboard          object\n",
       "Fatalities      object\n",
       "Ground          object\n",
       "Summry          object\n",
       "dtype: object"
      ]
     },
     "execution_count": 2,
     "metadata": {},
     "output_type": "execute_result"
    }
   ],
   "source": [
    "df1.dtypes"
   ]
  },
  {
   "cell_type": "code",
   "execution_count": 3,
   "id": "3dc36674",
   "metadata": {},
   "outputs": [
    {
     "data": {
      "text/plain": [
       "Incedents          0\n",
       "Date               0\n",
       "Time            1504\n",
       "Location           5\n",
       "Operator          10\n",
       "Flight #        3681\n",
       "Route            763\n",
       "AC Type           13\n",
       "Regestration     272\n",
       "cn / In          667\n",
       "Aboard            17\n",
       "Fatalities         8\n",
       "Ground            44\n",
       "Summry            59\n",
       "dtype: int64"
      ]
     },
     "execution_count": 3,
     "metadata": {},
     "output_type": "execute_result"
    }
   ],
   "source": [
    "df1.isnull().sum() #Indentifying the total null values(NaN or empty) in our Beginning dataset     "
   ]
  },
  {
   "cell_type": "code",
   "execution_count": 4,
   "id": "fa2acb3c",
   "metadata": {},
   "outputs": [
    {
     "data": {
      "text/plain": [
       "Incedents        0.000000\n",
       "Date             0.000000\n",
       "Time            29.996011\n",
       "Location         0.099721\n",
       "Operator         0.199442\n",
       "Flight #        73.414440\n",
       "Route           15.217391\n",
       "AC Type          0.259274\n",
       "Regestration     5.424811\n",
       "cn / In         13.302752\n",
       "Aboard           0.339051\n",
       "Fatalities       0.159553\n",
       "Ground           0.877543\n",
       "Summry           1.176705\n",
       "dtype: float64"
      ]
     },
     "execution_count": 4,
     "metadata": {},
     "output_type": "execute_result"
    }
   ],
   "source": [
    "df1.isnull().sum()/5014*100"
   ]
  },
  {
   "cell_type": "code",
   "execution_count": 5,
   "id": "9c5d335c",
   "metadata": {},
   "outputs": [
    {
     "data": {
      "text/html": [
       "<div>\n",
       "<style scoped>\n",
       "    .dataframe tbody tr th:only-of-type {\n",
       "        vertical-align: middle;\n",
       "    }\n",
       "\n",
       "    .dataframe tbody tr th {\n",
       "        vertical-align: top;\n",
       "    }\n",
       "\n",
       "    .dataframe thead th {\n",
       "        text-align: right;\n",
       "    }\n",
       "</style>\n",
       "<table border=\"1\" class=\"dataframe\">\n",
       "  <thead>\n",
       "    <tr style=\"text-align: right;\">\n",
       "      <th></th>\n",
       "      <th>Incedents</th>\n",
       "      <th>Date</th>\n",
       "      <th>Time</th>\n",
       "      <th>Location</th>\n",
       "      <th>Operator</th>\n",
       "      <th>Route</th>\n",
       "      <th>AC Type</th>\n",
       "      <th>Regestration</th>\n",
       "      <th>cn / In</th>\n",
       "      <th>Aboard</th>\n",
       "      <th>Fatalities</th>\n",
       "      <th>Ground</th>\n",
       "      <th>Summry</th>\n",
       "    </tr>\n",
       "  </thead>\n",
       "  <tbody>\n",
       "    <tr>\n",
       "      <th>0</th>\n",
       "      <td>1</td>\n",
       "      <td>17/09/1908</td>\n",
       "      <td>1718</td>\n",
       "      <td>Fort Myer, Virginia</td>\n",
       "      <td>Military - U.S. Army</td>\n",
       "      <td>Demonstration</td>\n",
       "      <td>Wright Flyer III</td>\n",
       "      <td>NaN</td>\n",
       "      <td>1</td>\n",
       "      <td>2 (passengers:1 crew:1)</td>\n",
       "      <td>1 (passengers:1 crew:0)</td>\n",
       "      <td>0</td>\n",
       "      <td>During a demonstration flight, a U.S. Army fl...</td>\n",
       "    </tr>\n",
       "  </tbody>\n",
       "</table>\n",
       "</div>"
      ],
      "text/plain": [
       "   Incedents        Date  Time               Location                Operator  \\\n",
       "0          1  17/09/1908  1718   Fort Myer, Virginia    Military - U.S. Army    \n",
       "\n",
       "             Route             AC Type Regestration cn / In  \\\n",
       "0   Demonstration    Wright Flyer III           NaN       1   \n",
       "\n",
       "                      Aboard                 Fatalities Ground  \\\n",
       "0   2 (passengers:1 crew:1)    1 (passengers:1 crew:0)       0   \n",
       "\n",
       "                                              Summry  \n",
       "0   During a demonstration flight, a U.S. Army fl...  "
      ]
     },
     "execution_count": 5,
     "metadata": {},
     "output_type": "execute_result"
    }
   ],
   "source": [
    "df1 = df1.drop(labels='Flight #', axis=1) #Droping the \"Flight#\" due to its extreme null percentage\n",
    "df1.head(1) #Displaying the first 5 rows of our Beginning dataset"
   ]
  },
  {
   "cell_type": "code",
   "execution_count": 6,
   "id": "5aa01bc3",
   "metadata": {},
   "outputs": [
    {
     "data": {
      "text/html": [
       "<div>\n",
       "<style scoped>\n",
       "    .dataframe tbody tr th:only-of-type {\n",
       "        vertical-align: middle;\n",
       "    }\n",
       "\n",
       "    .dataframe tbody tr th {\n",
       "        vertical-align: top;\n",
       "    }\n",
       "\n",
       "    .dataframe thead th {\n",
       "        text-align: right;\n",
       "    }\n",
       "</style>\n",
       "<table border=\"1\" class=\"dataframe\">\n",
       "  <thead>\n",
       "    <tr style=\"text-align: right;\">\n",
       "      <th></th>\n",
       "      <th>Incedents</th>\n",
       "      <th>Date</th>\n",
       "      <th>Time</th>\n",
       "      <th>Location</th>\n",
       "      <th>Operator</th>\n",
       "      <th>Route</th>\n",
       "      <th>AC Type</th>\n",
       "      <th>Regestration</th>\n",
       "      <th>cn / In</th>\n",
       "      <th>Aboard</th>\n",
       "      <th>Death</th>\n",
       "      <th>Ground</th>\n",
       "      <th>Summary</th>\n",
       "    </tr>\n",
       "  </thead>\n",
       "  <tbody>\n",
       "    <tr>\n",
       "      <th>0</th>\n",
       "      <td>1</td>\n",
       "      <td>17/09/1908</td>\n",
       "      <td>1718</td>\n",
       "      <td>Fort Myer, Virginia</td>\n",
       "      <td>Military - U.S. Army</td>\n",
       "      <td>Demonstration</td>\n",
       "      <td>Wright Flyer III</td>\n",
       "      <td>NaN</td>\n",
       "      <td>1</td>\n",
       "      <td>2 (passengers:1 crew:1)</td>\n",
       "      <td>1 (passengers:1 crew:0)</td>\n",
       "      <td>0</td>\n",
       "      <td>During a demonstration flight, a U.S. Army fl...</td>\n",
       "    </tr>\n",
       "  </tbody>\n",
       "</table>\n",
       "</div>"
      ],
      "text/plain": [
       "   Incedents        Date  Time               Location                Operator  \\\n",
       "0          1  17/09/1908  1718   Fort Myer, Virginia    Military - U.S. Army    \n",
       "\n",
       "             Route             AC Type Regestration cn / In  \\\n",
       "0   Demonstration    Wright Flyer III           NaN       1   \n",
       "\n",
       "                      Aboard                      Death Ground  \\\n",
       "0   2 (passengers:1 crew:1)    1 (passengers:1 crew:0)       0   \n",
       "\n",
       "                                             Summary  \n",
       "0   During a demonstration flight, a U.S. Army fl...  "
      ]
     },
     "execution_count": 6,
     "metadata": {},
     "output_type": "execute_result"
    }
   ],
   "source": [
    "df1=df1.rename(columns={\"Summry\":\"Summary\",\"Fatalities\":\"Death\"}) #Renaming one of the columns due to its misspelling\n",
    "df1.head(1) #Displaying the first 5 rows of our Beginning dataset"
   ]
  },
  {
   "cell_type": "code",
   "execution_count": 7,
   "id": "f1f147a5",
   "metadata": {},
   "outputs": [
    {
     "data": {
      "text/plain": [
       "Incedents        int64\n",
       "Date            object\n",
       "Time            object\n",
       "Location        object\n",
       "Operator        object\n",
       "Route           object\n",
       "AC Type         object\n",
       "Regestration    object\n",
       "cn / In         object\n",
       "Aboard          object\n",
       "Death           object\n",
       "Ground          object\n",
       "Summary         object\n",
       "dtype: object"
      ]
     },
     "execution_count": 7,
     "metadata": {},
     "output_type": "execute_result"
    }
   ],
   "source": [
    "df1.dtypes # Presenting the data types of each column in our Beginning dataset"
   ]
  },
  {
   "cell_type": "code",
   "execution_count": 8,
   "id": "536ec722",
   "metadata": {},
   "outputs": [
    {
     "data": {
      "text/html": [
       "<div>\n",
       "<style scoped>\n",
       "    .dataframe tbody tr th:only-of-type {\n",
       "        vertical-align: middle;\n",
       "    }\n",
       "\n",
       "    .dataframe tbody tr th {\n",
       "        vertical-align: top;\n",
       "    }\n",
       "\n",
       "    .dataframe thead th {\n",
       "        text-align: right;\n",
       "    }\n",
       "</style>\n",
       "<table border=\"1\" class=\"dataframe\">\n",
       "  <thead>\n",
       "    <tr style=\"text-align: right;\">\n",
       "      <th></th>\n",
       "      <th>Incedents</th>\n",
       "      <th>Date</th>\n",
       "      <th>Time</th>\n",
       "      <th>Location</th>\n",
       "      <th>Operator</th>\n",
       "      <th>Route</th>\n",
       "      <th>AC Type</th>\n",
       "      <th>Regestration</th>\n",
       "      <th>cn / In</th>\n",
       "      <th>Aboard</th>\n",
       "      <th>Death</th>\n",
       "      <th>Ground</th>\n",
       "      <th>Summary</th>\n",
       "    </tr>\n",
       "  </thead>\n",
       "  <tbody>\n",
       "    <tr>\n",
       "      <th>0</th>\n",
       "      <td>1</td>\n",
       "      <td>1908-09-17</td>\n",
       "      <td>1718</td>\n",
       "      <td>Fort Myer, Virginia</td>\n",
       "      <td>Military - U.S. Army</td>\n",
       "      <td>Demonstration</td>\n",
       "      <td>Wright Flyer III</td>\n",
       "      <td>NaN</td>\n",
       "      <td>1</td>\n",
       "      <td>2 (passengers:1 crew:1)</td>\n",
       "      <td>1 (passengers:1 crew:0)</td>\n",
       "      <td>0</td>\n",
       "      <td>During a demonstration flight, a U.S. Army fl...</td>\n",
       "    </tr>\n",
       "  </tbody>\n",
       "</table>\n",
       "</div>"
      ],
      "text/plain": [
       "   Incedents       Date  Time               Location                Operator  \\\n",
       "0          1 1908-09-17  1718   Fort Myer, Virginia    Military - U.S. Army    \n",
       "\n",
       "             Route             AC Type Regestration cn / In  \\\n",
       "0   Demonstration    Wright Flyer III           NaN       1   \n",
       "\n",
       "                      Aboard                      Death Ground  \\\n",
       "0   2 (passengers:1 crew:1)    1 (passengers:1 crew:0)       0   \n",
       "\n",
       "                                             Summary  \n",
       "0   During a demonstration flight, a U.S. Army fl...  "
      ]
     },
     "execution_count": 8,
     "metadata": {},
     "output_type": "execute_result"
    }
   ],
   "source": [
    "df1['Date']=pd.to_datetime(df2['Date']) #Converting the \"Date\" column in the End datset into python date rather from object\n",
    "df1.head(1) #Showing the \"Date\" coulmn only "
   ]
  },
  {
   "cell_type": "code",
   "execution_count": 9,
   "id": "c5a254ba",
   "metadata": {},
   "outputs": [
    {
     "data": {
      "text/html": [
       "<div>\n",
       "<style scoped>\n",
       "    .dataframe tbody tr th:only-of-type {\n",
       "        vertical-align: middle;\n",
       "    }\n",
       "\n",
       "    .dataframe tbody tr th {\n",
       "        vertical-align: top;\n",
       "    }\n",
       "\n",
       "    .dataframe thead th {\n",
       "        text-align: right;\n",
       "    }\n",
       "</style>\n",
       "<table border=\"1\" class=\"dataframe\">\n",
       "  <thead>\n",
       "    <tr style=\"text-align: right;\">\n",
       "      <th></th>\n",
       "      <th>Incedents</th>\n",
       "      <th>Date</th>\n",
       "      <th>Time</th>\n",
       "      <th>Location</th>\n",
       "      <th>Operator</th>\n",
       "      <th>Route</th>\n",
       "      <th>AC Type</th>\n",
       "      <th>Regestration</th>\n",
       "      <th>cn / In</th>\n",
       "      <th>Aboard</th>\n",
       "      <th>Death</th>\n",
       "      <th>Ground</th>\n",
       "      <th>Summary</th>\n",
       "    </tr>\n",
       "  </thead>\n",
       "  <tbody>\n",
       "    <tr>\n",
       "      <th>0</th>\n",
       "      <td>1</td>\n",
       "      <td>17/Sep/1908</td>\n",
       "      <td>1718</td>\n",
       "      <td>Fort Myer, Virginia</td>\n",
       "      <td>Military - U.S. Army</td>\n",
       "      <td>Demonstration</td>\n",
       "      <td>Wright Flyer III</td>\n",
       "      <td>NaN</td>\n",
       "      <td>1</td>\n",
       "      <td>2 (passengers:1 crew:1)</td>\n",
       "      <td>1 (passengers:1 crew:0)</td>\n",
       "      <td>0</td>\n",
       "      <td>During a demonstration flight, a U.S. Army fl...</td>\n",
       "    </tr>\n",
       "  </tbody>\n",
       "</table>\n",
       "</div>"
      ],
      "text/plain": [
       "   Incedents         Date  Time               Location  \\\n",
       "0          1  17/Sep/1908  1718   Fort Myer, Virginia    \n",
       "\n",
       "                 Operator            Route             AC Type Regestration  \\\n",
       "0   Military - U.S. Army    Demonstration    Wright Flyer III           NaN   \n",
       "\n",
       "  cn / In                     Aboard                      Death Ground  \\\n",
       "0       1   2 (passengers:1 crew:1)    1 (passengers:1 crew:0)       0   \n",
       "\n",
       "                                             Summary  \n",
       "0   During a demonstration flight, a U.S. Army fl...  "
      ]
     },
     "execution_count": 9,
     "metadata": {},
     "output_type": "execute_result"
    }
   ],
   "source": [
    "df1['Date']=df1['Date'].dt.strftime('%d/%b/%Y') #Changing the \"Date\" format from('%Y-%m-%d') into ('%d/%b/%Y')\n",
    "df1.head(1)"
   ]
  },
  {
   "cell_type": "code",
   "execution_count": 10,
   "id": "64100122",
   "metadata": {},
   "outputs": [
    {
     "name": "stdout",
     "output_type": "stream",
     "text": [
      "<class 'pandas.core.frame.DataFrame'>\n",
      "RangeIndex: 5014 entries, 0 to 5013\n",
      "Data columns (total 13 columns):\n",
      " #   Column        Non-Null Count  Dtype \n",
      "---  ------        --------------  ----- \n",
      " 0   Incedents     5014 non-null   int64 \n",
      " 1   Date          5014 non-null   object\n",
      " 2   Time          3510 non-null   object\n",
      " 3   Location      5009 non-null   object\n",
      " 4   Operator      5004 non-null   object\n",
      " 5   Route         4251 non-null   object\n",
      " 6   AC Type       5001 non-null   object\n",
      " 7   Regestration  4742 non-null   object\n",
      " 8   cn / In       4347 non-null   object\n",
      " 9   Aboard        4997 non-null   object\n",
      " 10  Death         5006 non-null   object\n",
      " 11  Ground        4970 non-null   object\n",
      " 12  Summary       4955 non-null   object\n",
      "dtypes: int64(1), object(12)\n",
      "memory usage: 509.4+ KB\n"
     ]
    }
   ],
   "source": [
    "df1.info() #Indentifying the information about our Beginning dataset"
   ]
  },
  {
   "cell_type": "code",
   "execution_count": 11,
   "id": "656f0ce8",
   "metadata": {},
   "outputs": [
    {
     "data": {
      "text/plain": [
       "Incedents        int64\n",
       "Date            object\n",
       "Time            object\n",
       "Location        object\n",
       "Operator        object\n",
       "Route           object\n",
       "AC Type         object\n",
       "Regestration    object\n",
       "cn / In         object\n",
       "Aboard          object\n",
       "Death           object\n",
       "Ground          object\n",
       "Summary         object\n",
       "dtype: object"
      ]
     },
     "execution_count": 11,
     "metadata": {},
     "output_type": "execute_result"
    }
   ],
   "source": [
    "df1.dtypes                         # Presenting the data types of each column in our Beginning dataset"
   ]
  },
  {
   "cell_type": "code",
   "execution_count": 12,
   "id": "26b00cb8",
   "metadata": {},
   "outputs": [],
   "source": [
    "df1.to_csv('Start.csv') # Creating a new csv file called 'Start' of our analyzed  Beginning dataset "
   ]
  },
  {
   "cell_type": "code",
   "execution_count": 13,
   "id": "de7393d9",
   "metadata": {},
   "outputs": [
    {
     "data": {
      "text/html": [
       "<div>\n",
       "<style scoped>\n",
       "    .dataframe tbody tr th:only-of-type {\n",
       "        vertical-align: middle;\n",
       "    }\n",
       "\n",
       "    .dataframe tbody tr th {\n",
       "        vertical-align: top;\n",
       "    }\n",
       "\n",
       "    .dataframe thead th {\n",
       "        text-align: right;\n",
       "    }\n",
       "</style>\n",
       "<table border=\"1\" class=\"dataframe\">\n",
       "  <thead>\n",
       "    <tr style=\"text-align: right;\">\n",
       "      <th></th>\n",
       "      <th>Incedents</th>\n",
       "      <th>Date</th>\n",
       "      <th>Time</th>\n",
       "      <th>Location</th>\n",
       "      <th>Operator</th>\n",
       "      <th>Route</th>\n",
       "      <th>AC Type</th>\n",
       "      <th>Registration</th>\n",
       "      <th>cn / In</th>\n",
       "      <th>Aboard</th>\n",
       "      <th>Fatalities</th>\n",
       "      <th>Ground</th>\n",
       "      <th>Summary</th>\n",
       "    </tr>\n",
       "  </thead>\n",
       "  <tbody>\n",
       "    <tr>\n",
       "      <th>0</th>\n",
       "      <td>1</td>\n",
       "      <td>17/09/1908</td>\n",
       "      <td>5:18 PM</td>\n",
       "      <td>Fort Myer, Virginia</td>\n",
       "      <td>Military - U.S. Army</td>\n",
       "      <td>Demonstration</td>\n",
       "      <td>Wright Flyer III</td>\n",
       "      <td>SC-1</td>\n",
       "      <td>1</td>\n",
       "      <td>2 (passengers:1 crew:1)</td>\n",
       "      <td>1 (passengers:1 crew:0)</td>\n",
       "      <td>0</td>\n",
       "      <td>During a demonstration flight, a U.S. Army fl...</td>\n",
       "    </tr>\n",
       "  </tbody>\n",
       "</table>\n",
       "</div>"
      ],
      "text/plain": [
       "   Incedents        Date    Time                Location  \\\n",
       "0          1  17/09/1908  5:18 PM   Fort Myer, Virginia    \n",
       "\n",
       "                 Operator            Route             AC Type Registration  \\\n",
       "0   Military - U.S. Army    Demonstration    Wright Flyer III          SC-1   \n",
       "\n",
       "  cn / In                     Aboard                 Fatalities Ground  \\\n",
       "0       1   2 (passengers:1 crew:1)    1 (passengers:1 crew:0)       0   \n",
       "\n",
       "                                             Summary  \n",
       "0   During a demonstration flight, a U.S. Army fl...  "
      ]
     },
     "execution_count": 13,
     "metadata": {},
     "output_type": "execute_result"
    }
   ],
   "source": [
    "df2.head(1) #Displaying the End dataset"
   ]
  },
  {
   "cell_type": "code",
   "execution_count": 14,
   "id": "042c3ffb",
   "metadata": {},
   "outputs": [
    {
     "data": {
      "text/plain": [
       "Incedents        0.000000\n",
       "Date             0.000000\n",
       "Time            24.152373\n",
       "Location         0.079777\n",
       "Operator         0.119665\n",
       "Route           10.071799\n",
       "AC Type          0.099721\n",
       "Registration     3.769446\n",
       "cn / In         12.405265\n",
       "Aboard           0.239330\n",
       "Fatalities       0.159553\n",
       "Ground           0.000000\n",
       "Summary          0.917431\n",
       "dtype: float64"
      ]
     },
     "execution_count": 14,
     "metadata": {},
     "output_type": "execute_result"
    }
   ],
   "source": [
    "df2.isnull().sum()/5014*100 #Indentifying the null values(NaN or empty) in our End dataset "
   ]
  },
  {
   "cell_type": "code",
   "execution_count": 15,
   "id": "77766e23",
   "metadata": {},
   "outputs": [
    {
     "name": "stdout",
     "output_type": "stream",
     "text": [
      "<class 'pandas.core.frame.DataFrame'>\n",
      "RangeIndex: 5014 entries, 0 to 5013\n",
      "Data columns (total 13 columns):\n",
      " #   Column        Non-Null Count  Dtype \n",
      "---  ------        --------------  ----- \n",
      " 0   Incedents     5014 non-null   int64 \n",
      " 1   Date          5014 non-null   object\n",
      " 2   Time          3803 non-null   object\n",
      " 3   Location      5010 non-null   object\n",
      " 4   Operator      5008 non-null   object\n",
      " 5   Route         4509 non-null   object\n",
      " 6   AC Type       5009 non-null   object\n",
      " 7   Registration  4825 non-null   object\n",
      " 8   cn / In       4392 non-null   object\n",
      " 9   Aboard        5002 non-null   object\n",
      " 10  Fatalities    5006 non-null   object\n",
      " 11  Ground        5014 non-null   object\n",
      " 12  Summary       4968 non-null   object\n",
      "dtypes: int64(1), object(12)\n",
      "memory usage: 509.4+ KB\n"
     ]
    }
   ],
   "source": [
    "df2.info() # Indentifying the information about our End dataset"
   ]
  },
  {
   "cell_type": "code",
   "execution_count": 16,
   "id": "aaf31dc4",
   "metadata": {},
   "outputs": [
    {
     "data": {
      "text/plain": [
       "Incedents        int64\n",
       "Date            object\n",
       "Time            object\n",
       "Location        object\n",
       "Operator        object\n",
       "Route           object\n",
       "AC Type         object\n",
       "Registration    object\n",
       "cn / In         object\n",
       "Aboard          object\n",
       "Fatalities      object\n",
       "Ground          object\n",
       "Summary         object\n",
       "dtype: object"
      ]
     },
     "execution_count": 16,
     "metadata": {},
     "output_type": "execute_result"
    }
   ],
   "source": [
    "df2.dtypes # Presenting the data types of each column in our End dataset"
   ]
  },
  {
   "cell_type": "code",
   "execution_count": 17,
   "id": "c59e2d69",
   "metadata": {},
   "outputs": [
    {
     "data": {
      "text/html": [
       "<div>\n",
       "<style scoped>\n",
       "    .dataframe tbody tr th:only-of-type {\n",
       "        vertical-align: middle;\n",
       "    }\n",
       "\n",
       "    .dataframe tbody tr th {\n",
       "        vertical-align: top;\n",
       "    }\n",
       "\n",
       "    .dataframe thead th {\n",
       "        text-align: right;\n",
       "    }\n",
       "</style>\n",
       "<table border=\"1\" class=\"dataframe\">\n",
       "  <thead>\n",
       "    <tr style=\"text-align: right;\">\n",
       "      <th></th>\n",
       "      <th>Incedents</th>\n",
       "      <th>Date</th>\n",
       "      <th>Time</th>\n",
       "      <th>Location</th>\n",
       "      <th>Operator</th>\n",
       "      <th>Route</th>\n",
       "      <th>AC Type</th>\n",
       "      <th>Registration</th>\n",
       "      <th>cn / In</th>\n",
       "      <th>Aboard</th>\n",
       "      <th>Fatalities</th>\n",
       "      <th>Ground</th>\n",
       "      <th>Summary</th>\n",
       "    </tr>\n",
       "  </thead>\n",
       "  <tbody>\n",
       "    <tr>\n",
       "      <th>0</th>\n",
       "      <td>1</td>\n",
       "      <td>1908-09-17</td>\n",
       "      <td>5:18 PM</td>\n",
       "      <td>Fort Myer, Virginia</td>\n",
       "      <td>Military - U.S. Army</td>\n",
       "      <td>Demonstration</td>\n",
       "      <td>Wright Flyer III</td>\n",
       "      <td>SC-1</td>\n",
       "      <td>1</td>\n",
       "      <td>2 (passengers:1 crew:1)</td>\n",
       "      <td>1 (passengers:1 crew:0)</td>\n",
       "      <td>0</td>\n",
       "      <td>During a demonstration flight, a U.S. Army fl...</td>\n",
       "    </tr>\n",
       "  </tbody>\n",
       "</table>\n",
       "</div>"
      ],
      "text/plain": [
       "   Incedents       Date    Time                Location  \\\n",
       "0          1 1908-09-17  5:18 PM   Fort Myer, Virginia    \n",
       "\n",
       "                 Operator            Route             AC Type Registration  \\\n",
       "0   Military - U.S. Army    Demonstration    Wright Flyer III          SC-1   \n",
       "\n",
       "  cn / In                     Aboard                 Fatalities Ground  \\\n",
       "0       1   2 (passengers:1 crew:1)    1 (passengers:1 crew:0)       0   \n",
       "\n",
       "                                             Summary  \n",
       "0   During a demonstration flight, a U.S. Army fl...  "
      ]
     },
     "execution_count": 17,
     "metadata": {},
     "output_type": "execute_result"
    }
   ],
   "source": [
    "df2['Date']=pd.to_datetime(df2['Date']) #Converting the \"Date\" column in the End datset into python date rather from object\n",
    "df2.head(1) #Showing the \"Date\" coulmn only "
   ]
  },
  {
   "cell_type": "code",
   "execution_count": 18,
   "id": "08b9ffd2",
   "metadata": {},
   "outputs": [
    {
     "data": {
      "text/html": [
       "<div>\n",
       "<style scoped>\n",
       "    .dataframe tbody tr th:only-of-type {\n",
       "        vertical-align: middle;\n",
       "    }\n",
       "\n",
       "    .dataframe tbody tr th {\n",
       "        vertical-align: top;\n",
       "    }\n",
       "\n",
       "    .dataframe thead th {\n",
       "        text-align: right;\n",
       "    }\n",
       "</style>\n",
       "<table border=\"1\" class=\"dataframe\">\n",
       "  <thead>\n",
       "    <tr style=\"text-align: right;\">\n",
       "      <th></th>\n",
       "      <th>Incedents</th>\n",
       "      <th>Date</th>\n",
       "      <th>Time</th>\n",
       "      <th>Location</th>\n",
       "      <th>Operator</th>\n",
       "      <th>Route</th>\n",
       "      <th>AC Type</th>\n",
       "      <th>Registration</th>\n",
       "      <th>cn / In</th>\n",
       "      <th>Aboard</th>\n",
       "      <th>Fatalities</th>\n",
       "      <th>Ground</th>\n",
       "      <th>Summary</th>\n",
       "    </tr>\n",
       "  </thead>\n",
       "  <tbody>\n",
       "    <tr>\n",
       "      <th>0</th>\n",
       "      <td>1</td>\n",
       "      <td>1908-09-17</td>\n",
       "      <td>5:18 PM</td>\n",
       "      <td>Fort Myer, Virginia</td>\n",
       "      <td>Military - U.S. Army</td>\n",
       "      <td>Demonstration</td>\n",
       "      <td>Wright Flyer III</td>\n",
       "      <td>SC-1</td>\n",
       "      <td>1</td>\n",
       "      <td>2 (passengers:1 crew:1)</td>\n",
       "      <td>1 (passengers:1 crew:0)</td>\n",
       "      <td>0</td>\n",
       "      <td>During a demonstration flight, a U.S. Army fl...</td>\n",
       "    </tr>\n",
       "  </tbody>\n",
       "</table>\n",
       "</div>"
      ],
      "text/plain": [
       "   Incedents       Date    Time                Location  \\\n",
       "0          1 1908-09-17  5:18 PM   Fort Myer, Virginia    \n",
       "\n",
       "                 Operator            Route             AC Type Registration  \\\n",
       "0   Military - U.S. Army    Demonstration    Wright Flyer III          SC-1   \n",
       "\n",
       "  cn / In                     Aboard                 Fatalities Ground  \\\n",
       "0       1   2 (passengers:1 crew:1)    1 (passengers:1 crew:0)       0   \n",
       "\n",
       "                                             Summary  \n",
       "0   During a demonstration flight, a U.S. Army fl...  "
      ]
     },
     "execution_count": 18,
     "metadata": {},
     "output_type": "execute_result"
    }
   ],
   "source": [
    "df2.head(1) #Displaying the first 5 rows of our End dataset"
   ]
  },
  {
   "cell_type": "code",
   "execution_count": 19,
   "id": "e49c2999",
   "metadata": {},
   "outputs": [],
   "source": [
    "df2['Date']=df2['Date'].dt.strftime('%d/%b/%Y') #Changing the \"Date\" format from('%Y-%m-%d') into ('%d/%b/%Y')"
   ]
  },
  {
   "cell_type": "code",
   "execution_count": 20,
   "id": "c0b900b3",
   "metadata": {},
   "outputs": [
    {
     "data": {
      "text/html": [
       "<div>\n",
       "<style scoped>\n",
       "    .dataframe tbody tr th:only-of-type {\n",
       "        vertical-align: middle;\n",
       "    }\n",
       "\n",
       "    .dataframe tbody tr th {\n",
       "        vertical-align: top;\n",
       "    }\n",
       "\n",
       "    .dataframe thead th {\n",
       "        text-align: right;\n",
       "    }\n",
       "</style>\n",
       "<table border=\"1\" class=\"dataframe\">\n",
       "  <thead>\n",
       "    <tr style=\"text-align: right;\">\n",
       "      <th></th>\n",
       "      <th>Incedents</th>\n",
       "      <th>Date</th>\n",
       "      <th>Time</th>\n",
       "      <th>Location</th>\n",
       "      <th>Operator</th>\n",
       "      <th>Route</th>\n",
       "      <th>AC Type</th>\n",
       "      <th>Registration</th>\n",
       "      <th>cn / In</th>\n",
       "      <th>Aboard</th>\n",
       "      <th>Fatalities</th>\n",
       "      <th>Ground</th>\n",
       "      <th>Summary</th>\n",
       "    </tr>\n",
       "  </thead>\n",
       "  <tbody>\n",
       "    <tr>\n",
       "      <th>0</th>\n",
       "      <td>1</td>\n",
       "      <td>17/Sep/1908</td>\n",
       "      <td>5:18 PM</td>\n",
       "      <td>Fort Myer, Virginia</td>\n",
       "      <td>Military - U.S. Army</td>\n",
       "      <td>Demonstration</td>\n",
       "      <td>Wright Flyer III</td>\n",
       "      <td>SC-1</td>\n",
       "      <td>1</td>\n",
       "      <td>2 (passengers:1 crew:1)</td>\n",
       "      <td>1 (passengers:1 crew:0)</td>\n",
       "      <td>0</td>\n",
       "      <td>During a demonstration flight, a U.S. Army fl...</td>\n",
       "    </tr>\n",
       "  </tbody>\n",
       "</table>\n",
       "</div>"
      ],
      "text/plain": [
       "   Incedents         Date    Time                Location  \\\n",
       "0          1  17/Sep/1908  5:18 PM   Fort Myer, Virginia    \n",
       "\n",
       "                 Operator            Route             AC Type Registration  \\\n",
       "0   Military - U.S. Army    Demonstration    Wright Flyer III          SC-1   \n",
       "\n",
       "  cn / In                     Aboard                 Fatalities Ground  \\\n",
       "0       1   2 (passengers:1 crew:1)    1 (passengers:1 crew:0)       0   \n",
       "\n",
       "                                             Summary  \n",
       "0   During a demonstration flight, a U.S. Army fl...  "
      ]
     },
     "execution_count": 20,
     "metadata": {},
     "output_type": "execute_result"
    }
   ],
   "source": [
    "df2.head(1) #Displaying the first row of our End dataset"
   ]
  },
  {
   "cell_type": "code",
   "execution_count": 21,
   "id": "226376f3",
   "metadata": {},
   "outputs": [
    {
     "data": {
      "text/html": [
       "<div>\n",
       "<style scoped>\n",
       "    .dataframe tbody tr th:only-of-type {\n",
       "        vertical-align: middle;\n",
       "    }\n",
       "\n",
       "    .dataframe tbody tr th {\n",
       "        vertical-align: top;\n",
       "    }\n",
       "\n",
       "    .dataframe thead th {\n",
       "        text-align: right;\n",
       "    }\n",
       "</style>\n",
       "<table border=\"1\" class=\"dataframe\">\n",
       "  <thead>\n",
       "    <tr style=\"text-align: right;\">\n",
       "      <th></th>\n",
       "      <th>Incedents</th>\n",
       "      <th>Date</th>\n",
       "      <th>Time</th>\n",
       "      <th>Location</th>\n",
       "      <th>Operator</th>\n",
       "      <th>Route</th>\n",
       "      <th>AC Type</th>\n",
       "      <th>Regestration</th>\n",
       "      <th>cn / In</th>\n",
       "      <th>Aboard</th>\n",
       "      <th>Death</th>\n",
       "      <th>Ground</th>\n",
       "      <th>Summary</th>\n",
       "    </tr>\n",
       "  </thead>\n",
       "  <tbody>\n",
       "    <tr>\n",
       "      <th>0</th>\n",
       "      <td>1</td>\n",
       "      <td>17/Sep/1908</td>\n",
       "      <td>1718</td>\n",
       "      <td>Fort Myer, Virginia</td>\n",
       "      <td>Military - U.S. Army</td>\n",
       "      <td>Demonstration</td>\n",
       "      <td>Wright Flyer III</td>\n",
       "      <td>NaN</td>\n",
       "      <td>1</td>\n",
       "      <td>2 (passengers:1 crew:1)</td>\n",
       "      <td>1 (passengers:1 crew:0)</td>\n",
       "      <td>0</td>\n",
       "      <td>During a demonstration flight, a U.S. Army fl...</td>\n",
       "    </tr>\n",
       "  </tbody>\n",
       "</table>\n",
       "</div>"
      ],
      "text/plain": [
       "   Incedents         Date  Time               Location  \\\n",
       "0          1  17/Sep/1908  1718   Fort Myer, Virginia    \n",
       "\n",
       "                 Operator            Route             AC Type Regestration  \\\n",
       "0   Military - U.S. Army    Demonstration    Wright Flyer III           NaN   \n",
       "\n",
       "  cn / In                     Aboard                      Death Ground  \\\n",
       "0       1   2 (passengers:1 crew:1)    1 (passengers:1 crew:0)       0   \n",
       "\n",
       "                                             Summary  \n",
       "0   During a demonstration flight, a U.S. Army fl...  "
      ]
     },
     "execution_count": 21,
     "metadata": {},
     "output_type": "execute_result"
    }
   ],
   "source": [
    "df2=df2.rename(columns={\"Fatalities\":\"Death\"}) #Renaming one of the columns to be more understandable \n",
    "df1.head(1) #Displaying the first 5 rows of our Beginning dataset"
   ]
  },
  {
   "cell_type": "code",
   "execution_count": 22,
   "id": "08cab8a6",
   "metadata": {},
   "outputs": [],
   "source": [
    "df2.to_csv('Final.csv')# Creating a new csv file called 'Final' of our Final dataset that is going to be used for the next phase"
   ]
  },
  {
   "cell_type": "code",
   "execution_count": 23,
   "id": "6b18c951",
   "metadata": {},
   "outputs": [
    {
     "data": {
      "text/plain": [
       "Incedents          0\n",
       "Date               0\n",
       "Time            1211\n",
       "Location           4\n",
       "Operator           6\n",
       "Route            505\n",
       "AC Type            5\n",
       "Registration     189\n",
       "cn / In          622\n",
       "Aboard            12\n",
       "Death              8\n",
       "Ground             0\n",
       "Summary           46\n",
       "dtype: int64"
      ]
     },
     "execution_count": 23,
     "metadata": {},
     "output_type": "execute_result"
    }
   ],
   "source": [
    "df2.isnull().sum()"
   ]
  },
  {
   "cell_type": "code",
   "execution_count": 25,
   "id": "f1c39fed",
   "metadata": {},
   "outputs": [
    {
     "data": {
      "text/plain": [
       "Incedents        0.000000\n",
       "Date             0.000000\n",
       "Time            24.152373\n",
       "Location         0.079777\n",
       "Operator         0.119665\n",
       "Route           10.071799\n",
       "AC Type          0.099721\n",
       "Registration     3.769446\n",
       "cn / In         12.405265\n",
       "Aboard           0.239330\n",
       "Death            0.159553\n",
       "Ground           0.000000\n",
       "Summary          0.917431\n",
       "dtype: float64"
      ]
     },
     "execution_count": 25,
     "metadata": {},
     "output_type": "execute_result"
    }
   ],
   "source": [
    "df2.isnull().sum()/5014*100"
   ]
  },
  {
   "cell_type": "code",
   "execution_count": null,
   "id": "93a3d441",
   "metadata": {},
   "outputs": [],
   "source": []
  }
 ],
 "metadata": {
  "kernelspec": {
   "display_name": "Python 3 (ipykernel)",
   "language": "python",
   "name": "python3"
  },
  "language_info": {
   "codemirror_mode": {
    "name": "ipython",
    "version": 3
   },
   "file_extension": ".py",
   "mimetype": "text/x-python",
   "name": "python",
   "nbconvert_exporter": "python",
   "pygments_lexer": "ipython3",
   "version": "3.9.7"
  }
 },
 "nbformat": 4,
 "nbformat_minor": 5
}
